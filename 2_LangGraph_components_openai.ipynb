{
 "cells": [
  {
   "cell_type": "markdown",
   "id": "21fa2e13-567d-4509-9023-c99fb230f31f",
   "metadata": {},
   "source": [
    "# Lesson 2 : LangGraph Components"
   ]
  },
  {
   "cell_type": "code",
   "execution_count": 33,
   "id": "f5762271-8736-4e94-9444-8c92bd0e8074",
   "metadata": {},
   "outputs": [
    {
     "data": {
      "text/plain": [
       "True"
      ]
     },
     "execution_count": 33,
     "metadata": {},
     "output_type": "execute_result"
    }
   ],
   "source": [
    "from dotenv import load_dotenv\n",
    "load_dotenv()"
   ]
  },
  {
   "cell_type": "code",
   "execution_count": 2,
   "id": "d0168aee-bce9-4d60-b827-f86a88187e31",
   "metadata": {},
   "outputs": [],
   "source": [
    "from langgraph.graph import StateGraph, END\n",
    "from typing import TypedDict, Annotated\n",
    "import operator\n",
    "from langchain_core.messages import AnyMessage, SystemMessage, HumanMessage, ToolMessage\n",
    "from langchain_openai import ChatOpenAI\n",
    "from langchain_community.tools.tavily_search import TavilySearchResults"
   ]
  },
  {
   "cell_type": "code",
   "execution_count": 3,
   "id": "2589c5b6-6cc2-4594-9a17-dccdcf676054",
   "metadata": {},
   "outputs": [
    {
     "name": "stdout",
     "output_type": "stream",
     "text": [
      "<class 'langchain_community.tools.tavily_search.tool.TavilySearchResults'>\n",
      "tavily_search_results_json\n"
     ]
    }
   ],
   "source": [
    "tool = TavilySearchResults(max_results=2) #increased number of results\n",
    "print(type(tool))\n",
    "print(tool.name)"
   ]
  },
  {
   "cell_type": "markdown",
   "id": "e196c186-af55-4f2d-b569-b7d63a859304",
   "metadata": {},
   "source": [
    "> If you are not familiar with python typing annotation, you can refer to the [python documents](https://docs.python.org/3/library/typing.html)."
   ]
  },
  {
   "cell_type": "code",
   "execution_count": 4,
   "id": "a2ba84ec-c172-4de7-ac55-e3158a531b23",
   "metadata": {},
   "outputs": [],
   "source": [
    "class AgentState(TypedDict):\n",
    "    messages: Annotated[list[AnyMessage], operator.add]"
   ]
  },
  {
   "cell_type": "markdown",
   "id": "74c7ba73-e603-453b-b06f-5db92c567b19",
   "metadata": {},
   "source": [
    "> Note: in `take_action` below, some logic was added to cover the case that the LLM returned a non-existent tool name. Even with function calling, LLMs can still occasionally hallucinate. Note that all that is done is instructing the LLM to try again! An advantage of an agentic organization."
   ]
  },
  {
   "cell_type": "code",
   "execution_count": 5,
   "id": "e66a1069",
   "metadata": {},
   "outputs": [],
   "source": [
    "import logging\n",
    "logging.basicConfig(level=logging.INFO)\n",
    "logger = logging.getLogger(__name__)"
   ]
  },
  {
   "cell_type": "code",
   "execution_count": 44,
   "id": "876d5092-b8ef-4e38-b4d7-0e80c609bf7a",
   "metadata": {},
   "outputs": [],
   "source": [
    "class Agent:\n",
    "\n",
    "    def __init__(self, model, tools, system=\"\"):\n",
    "        self.system = system\n",
    "        graph = StateGraph(AgentState)\n",
    "        graph.add_node(\"llm\", self.call_openai)\n",
    "        graph.add_node(\"action\", self.take_action)\n",
    "        graph.add_conditional_edges(\n",
    "            \"llm\",\n",
    "            self.exists_action,\n",
    "            {True: \"action\", False: END}\n",
    "        )\n",
    "        graph.add_edge(\"action\", \"llm\")\n",
    "        graph.set_entry_point(\"llm\")\n",
    "        self.graph = graph.compile()\n",
    "        self.tools = {t.name: t for t in tools}\n",
    "        self.model = model.bind_tools(tools)\n",
    "        logger.info(f\"model: {self.model}\")\n",
    "\n",
    "    def exists_action(self, state: AgentState):\n",
    "        result = state['messages'][-1]\n",
    "        logger.info(f\"exists_action result: {result}\")\n",
    "        return len(result.tool_calls) > 0\n",
    "\n",
    "    def call_openai(self, state: AgentState):\n",
    "        logger.info(f\"state: {state}\")\n",
    "        messages = state['messages']\n",
    "        if self.system:\n",
    "            messages = [SystemMessage(content=self.system)] + messages\n",
    "        message = self.model.invoke(messages)\n",
    "        logger.info(f\"LLM message: {message}\")\n",
    "        return {'messages': [message]}\n",
    "\n",
    "    def take_action(self, state: AgentState):\n",
    "        import threading\n",
    "        print(f\"take_action called in thread: {threading.current_thread().name}\")\n",
    "        tool_calls = state['messages'][-1].tool_calls\n",
    "        results = []\n",
    "        print(f\"take_action called with tool_calls: {tool_calls}\")\n",
    "        for t in tool_calls:\n",
    "            logger.info(f\"Calling: {t}\")\n",
    "            print(f\"Calling: {t}\") \n",
    "            if not t['name'] in self.tools:      # check for bad tool name from LLM\n",
    "                print(\"\\n ....bad tool name....\")\n",
    "                result = \"bad tool name, retry\"  # instruct LLM to retry if bad\n",
    "            else:\n",
    "                result = self.tools[t['name']].invoke(t['args'])\n",
    "                logger.info(f\"action {t['name']}, result: {result}\")\n",
    "                print(f\"action {t['name']}, result: {result}\")\n",
    "            results.append(ToolMessage(tool_call_id=t['id'], name=t['name'], content=str(result)))\n",
    "        print(\"Back to the model!\")\n",
    "        return {'messages': results}"
   ]
  },
  {
   "cell_type": "code",
   "execution_count": 45,
   "id": "10084a02-2928-4945-9f7c-ad3f5b33caf7",
   "metadata": {},
   "outputs": [
    {
     "name": "stderr",
     "output_type": "stream",
     "text": [
      "INFO:__main__:model: bound=ChatOpenAI(client=<openai.resources.chat.completions.Completions object at 0x7e98ec6fedd0>, async_client=<openai.resources.chat.completions.AsyncCompletions object at 0x7e98ecaeeb10>, openai_api_key=SecretStr('**********'), openai_proxy='') kwargs={'tools': [{'type': 'function', 'function': {'name': 'tavily_search_results_json', 'description': 'A search engine optimized for comprehensive, accurate, and trusted results. Useful for when you need to answer questions about current events. Input should be a search query.', 'parameters': {'type': 'object', 'properties': {'query': {'description': 'search query to look up', 'type': 'string'}}, 'required': ['query']}}}]}\n"
     ]
    }
   ],
   "source": [
    "prompt = \"\"\"You are a smart research assistant. Use the search engine to look up information.  \\\n",
    "You are allowed to make multiple calls (either together or in sequence). \\\n",
    "Only look up information when you are sure of what you want. \\\n",
    "If you need to look up some information before asking a follow up question, you are allowed to do that!\n",
    "\"\"\"\n",
    "os.environ['OPENAI_BASE_URL'] = 'https://key.wenwen-ai.com/v1'\n",
    "os.environ['OPENAI_API_KEY'] = 'YOUR_API_KEY'\n",
    "model = ChatOpenAI(model=\"gpt-3.5-turbo\")  #reduce inference cost\n",
    "# model = ChatOpenAI(model=\"yi-large\")\n",
    "abot = Agent(model, [tool], system=prompt)"
   ]
  },
  {
   "cell_type": "code",
   "execution_count": 11,
   "id": "a3d6f5f4-2392-41b9-ab96-7919840baa3e",
   "metadata": {},
   "outputs": [
    {
     "data": {
      "image/png": "[encoded data removed]",
      "text/plain": [
       "<IPython.core.display.Image object>"
      ]
     },
     "execution_count": 11,
     "metadata": {},
     "output_type": "execute_result"
    }
   ],
   "source": [
    "from IPython.display import Image\n",
    "\n",
    "Image(abot.graph.get_graph().draw_png())"
   ]
  },
  {
   "cell_type": "code",
   "execution_count": 38,
   "id": "83588e70-254f-4f83-a510-c8ae81e729b0",
   "metadata": {},
   "outputs": [
    {
     "name": "stderr",
     "output_type": "stream",
     "text": [
      "INFO:__main__:state: {'messages': [HumanMessage(content='What is the weather in sf?')]}\n"
     ]
    },
    {
     "name": "stderr",
     "output_type": "stream",
     "text": [
      "INFO:httpx:HTTP Request: POST https://key.wenwen-ai.com/v1/chat/completions \"HTTP/1.1 200 OK\"\n",
      "INFO:__main__:LLM message: content='' additional_kwargs={'tool_calls': [{'id': 'call_Q53LZksF9oeeNO5KSZfX18cv', 'function': {'arguments': '{\"query\":\"weather in San Francisco\"}', 'name': 'tavily_search_results_json'}, 'type': 'function'}]} response_metadata={'token_usage': {'completion_tokens': 21, 'prompt_tokens': 154, 'total_tokens': 175}, 'model_name': 'gpt-3.5-turbo', 'system_fingerprint': 'fp_811936bd4f', 'finish_reason': 'tool_calls', 'logprobs': None} id='run-9a9c1513-8987-431c-a9a9-e6aed276127b-0' tool_calls=[{'name': 'tavily_search_results_json', 'args': {'query': 'weather in San Francisco'}, 'id': 'call_Q53LZksF9oeeNO5KSZfX18cv'}]\n",
      "INFO:__main__:exists_action result: content='' additional_kwargs={'tool_calls': [{'id': 'call_Q53LZksF9oeeNO5KSZfX18cv', 'function': {'arguments': '{\"query\":\"weather in San Francisco\"}', 'name': 'tavily_search_results_json'}, 'type': 'function'}]} response_metadata={'token_usage': {'completion_tokens': 21, 'prompt_tokens': 154, 'total_tokens': 175}, 'model_name': 'gpt-3.5-turbo', 'system_fingerprint': 'fp_811936bd4f', 'finish_reason': 'tool_calls', 'logprobs': None} id='run-9a9c1513-8987-431c-a9a9-e6aed276127b-0' tool_calls=[{'name': 'tavily_search_results_json', 'args': {'query': 'weather in San Francisco'}, 'id': 'call_Q53LZksF9oeeNO5KSZfX18cv'}]\n",
      "INFO:__main__:Calling: {'name': 'tavily_search_results_json', 'args': {'query': 'weather in San Francisco'}, 'id': 'call_Q53LZksF9oeeNO5KSZfX18cv'}\n"
     ]
    },
    {
     "name": "stdout",
     "output_type": "stream",
     "text": [
      "take_action called in thread: ThreadPoolExecutor-12_0\n",
      "take_action called with tool_calls: [{'name': 'tavily_search_results_json', 'args': {'query': 'weather in San Francisco'}, 'id': 'call_Q53LZksF9oeeNO5KSZfX18cv'}]\n",
      "Calling: {'name': 'tavily_search_results_json', 'args': {'query': 'weather in San Francisco'}, 'id': 'call_Q53LZksF9oeeNO5KSZfX18cv'}\n"
     ]
    },
    {
     "name": "stderr",
     "output_type": "stream",
     "text": [
      "INFO:__main__:action tavily_search_results_json, result: [{'url': 'https://www.wunderground.com/hourly/us/ca/san-francisco/date/2024-6-26', 'content': 'Current Weather for Popular Cities . San Francisco, CA 58 ° F Fair; Manhattan, NY warning 73 ° F Clear; Schiller Park, IL (60176) warning 76 ° F Mostly Cloudy; Boston, MA 65 ° F Cloudy ...'}, {'url': 'https://forecast.weather.gov/zipcity.php?inputstring=San Francisco, CA', 'content': 'Current conditions at SAN FRANCISCO DOWNTOWN (SFOC1) Lat: 37.77056°NLon: 122.42694°WElev: 150.0ft. NA. 57°F. 14°C. ... San Francisco CA 37.77°N 122.41°W (Elev. 131 ft) Last Update: 1:26 pm PDT Jun 20, 2024. Forecast Valid: 2pm PDT Jun 20, 2024-6pm PDT Jun 26, 2024 . Forecast Discussion . Additional Resources. Radar & Satellite Image ...'}]\n",
      "INFO:__main__:state: {'messages': [HumanMessage(content='What is the weather in sf?'), AIMessage(content='', additional_kwargs={'tool_calls': [{'id': 'call_Q53LZksF9oeeNO5KSZfX18cv', 'function': {'arguments': '{\"query\":\"weather in San Francisco\"}', 'name': 'tavily_search_results_json'}, 'type': 'function'}]}, response_metadata={'token_usage': {'completion_tokens': 21, 'prompt_tokens': 154, 'total_tokens': 175}, 'model_name': 'gpt-3.5-turbo', 'system_fingerprint': 'fp_811936bd4f', 'finish_reason': 'tool_calls', 'logprobs': None}, id='run-9a9c1513-8987-431c-a9a9-e6aed276127b-0', tool_calls=[{'name': 'tavily_search_results_json', 'args': {'query': 'weather in San Francisco'}, 'id': 'call_Q53LZksF9oeeNO5KSZfX18cv'}]), ToolMessage(content=\"[{'url': 'https://www.wunderground.com/hourly/us/ca/san-francisco/date/2024-6-26', 'content': 'Current Weather for Popular Cities . San Francisco, CA 58 ° F Fair; Manhattan, NY warning 73 ° F Clear; Schiller Park, IL (60176) warning 76 ° F Mostly Cloudy; Boston, MA 65 ° F Cloudy ...'}, {'url': 'https://forecast.weather.gov/zipcity.php?inputstring=San Francisco, CA', 'content': 'Current conditions at SAN FRANCISCO DOWNTOWN (SFOC1) Lat: 37.77056°NLon: 122.42694°WElev: 150.0ft. NA. 57°F. 14°C. ... San Francisco CA 37.77°N 122.41°W (Elev. 131 ft) Last Update: 1:26 pm PDT Jun 20, 2024. Forecast Valid: 2pm PDT Jun 20, 2024-6pm PDT Jun 26, 2024 . Forecast Discussion . Additional Resources. Radar & Satellite Image ...'}]\", name='tavily_search_results_json', tool_call_id='call_Q53LZksF9oeeNO5KSZfX18cv')]}\n"
     ]
    },
    {
     "name": "stdout",
     "output_type": "stream",
     "text": [
      "action tavily_search_results_json, result: [{'url': 'https://www.wunderground.com/hourly/us/ca/san-francisco/date/2024-6-26', 'content': 'Current Weather for Popular Cities . San Francisco, CA 58 ° F Fair; Manhattan, NY warning 73 ° F Clear; Schiller Park, IL (60176) warning 76 ° F Mostly Cloudy; Boston, MA 65 ° F Cloudy ...'}, {'url': 'https://forecast.weather.gov/zipcity.php?inputstring=San Francisco, CA', 'content': 'Current conditions at SAN FRANCISCO DOWNTOWN (SFOC1) Lat: 37.77056°NLon: 122.42694°WElev: 150.0ft. NA. 57°F. 14°C. ... San Francisco CA 37.77°N 122.41°W (Elev. 131 ft) Last Update: 1:26 pm PDT Jun 20, 2024. Forecast Valid: 2pm PDT Jun 20, 2024-6pm PDT Jun 26, 2024 . Forecast Discussion . Additional Resources. Radar & Satellite Image ...'}]\n",
      "Back to the model!\n"
     ]
    },
    {
     "name": "stderr",
     "output_type": "stream",
     "text": [
      "INFO:httpx:HTTP Request: POST https://key.wenwen-ai.com/v1/chat/completions \"HTTP/1.1 200 OK\"\n",
      "INFO:__main__:LLM message: content=\"The current weather in San Francisco, CA is 58°F with fair conditions. If you'd like more detailed information, you can visit the following link: [San Francisco Weather](https://www.wunderground.com/hourly/us/ca/san-francisco/date/2024-6-26).\" response_metadata={'token_usage': {'completion_tokens': 63, 'prompt_tokens': 436, 'total_tokens': 499}, 'model_name': 'gpt-3.5-turbo', 'system_fingerprint': 'fp_44132a4de3', 'finish_reason': 'stop', 'logprobs': None} id='run-ab5750d9-ff80-4c34-9017-ec7b03134f66-0'\n",
      "INFO:__main__:exists_action result: content=\"The current weather in San Francisco, CA is 58°F with fair conditions. If you'd like more detailed information, you can visit the following link: [San Francisco Weather](https://www.wunderground.com/hourly/us/ca/san-francisco/date/2024-6-26).\" response_metadata={'token_usage': {'completion_tokens': 63, 'prompt_tokens': 436, 'total_tokens': 499}, 'model_name': 'gpt-3.5-turbo', 'system_fingerprint': 'fp_44132a4de3', 'finish_reason': 'stop', 'logprobs': None} id='run-ab5750d9-ff80-4c34-9017-ec7b03134f66-0'\n"
     ]
    }
   ],
   "source": [
    "messages = [HumanMessage(content=\"What is the weather in sf?\")]\n",
    "result = abot.graph.invoke({\"messages\": messages})"
   ]
  },
  {
   "cell_type": "code",
   "execution_count": 39,
   "id": "89a06a8c-fcd4-4ca6-98f0-36c5809813e6",
   "metadata": {
    "scrolled": true
   },
   "outputs": [
    {
     "data": {
      "text/plain": [
       "{'messages': [HumanMessage(content='What is the weather in sf?'),\n",
       "  AIMessage(content='', additional_kwargs={'tool_calls': [{'id': 'call_Q53LZksF9oeeNO5KSZfX18cv', 'function': {'arguments': '{\"query\":\"weather in San Francisco\"}', 'name': 'tavily_search_results_json'}, 'type': 'function'}]}, response_metadata={'token_usage': {'completion_tokens': 21, 'prompt_tokens': 154, 'total_tokens': 175}, 'model_name': 'gpt-3.5-turbo', 'system_fingerprint': 'fp_811936bd4f', 'finish_reason': 'tool_calls', 'logprobs': None}, id='run-9a9c1513-8987-431c-a9a9-e6aed276127b-0', tool_calls=[{'name': 'tavily_search_results_json', 'args': {'query': 'weather in San Francisco'}, 'id': 'call_Q53LZksF9oeeNO5KSZfX18cv'}]),\n",
       "  ToolMessage(content=\"[{'url': 'https://www.wunderground.com/hourly/us/ca/san-francisco/date/2024-6-26', 'content': 'Current Weather for Popular Cities . San Francisco, CA 58 ° F Fair; Manhattan, NY warning 73 ° F Clear; Schiller Park, IL (60176) warning 76 ° F Mostly Cloudy; Boston, MA 65 ° F Cloudy ...'}, {'url': 'https://forecast.weather.gov/zipcity.php?inputstring=San Francisco, CA', 'content': 'Current conditions at SAN FRANCISCO DOWNTOWN (SFOC1) Lat: 37.77056°NLon: 122.42694°WElev: 150.0ft. NA. 57°F. 14°C. ... San Francisco CA 37.77°N 122.41°W (Elev. 131 ft) Last Update: 1:26 pm PDT Jun 20, 2024. Forecast Valid: 2pm PDT Jun 20, 2024-6pm PDT Jun 26, 2024 . Forecast Discussion . Additional Resources. Radar & Satellite Image ...'}]\", name='tavily_search_results_json', tool_call_id='call_Q53LZksF9oeeNO5KSZfX18cv'),\n",
       "  AIMessage(content=\"The current weather in San Francisco, CA is 58°F with fair conditions. If you'd like more detailed information, you can visit the following link: [San Francisco Weather](https://www.wunderground.com/hourly/us/ca/san-francisco/date/2024-6-26).\", response_metadata={'token_usage': {'completion_tokens': 63, 'prompt_tokens': 436, 'total_tokens': 499}, 'model_name': 'gpt-3.5-turbo', 'system_fingerprint': 'fp_44132a4de3', 'finish_reason': 'stop', 'logprobs': None}, id='run-ab5750d9-ff80-4c34-9017-ec7b03134f66-0')]}"
      ]
     },
     "execution_count": 39,
     "metadata": {},
     "output_type": "execute_result"
    }
   ],
   "source": [
    "result"
   ]
  },
  {
   "cell_type": "code",
   "execution_count": 40,
   "id": "6cb3ef4c-58b3-401b-b104-0d51e553d982",
   "metadata": {},
   "outputs": [
    {
     "data": {
      "text/plain": [
       "\"The current weather in San Francisco, CA is 58°F with fair conditions. If you'd like more detailed information, you can visit the following link: [San Francisco Weather](https://www.wunderground.com/hourly/us/ca/san-francisco/date/2024-6-26).\""
      ]
     },
     "execution_count": 40,
     "metadata": {},
     "output_type": "execute_result"
    }
   ],
   "source": [
    "result['messages'][-1].content"
   ]
  },
  {
   "cell_type": "markdown",
   "id": "174b3394",
   "metadata": {},
   "source": [
    "## parallel running action\n",
    "```\n",
    "take_action called with tool_calls: [ \n",
    "    {\n",
    "        'name': 'tavily_search_results_json',\n",
    "        'args': {'query': 'weather in San Francisco'},\n",
    "        'id': 'call_isxUnWUmjdy7vkBJkrcYIHSv'\n",
    "    },\n",
    "    {\n",
    "        'name': 'tavily_search_results_json',\n",
    "        'args': {'query': 'weather in Los Angeles'},\n",
    "        'id': 'call_q6U5CcmqdZMCvmYpxIjdeYUe'\n",
    "    }]\n",
    "\n",
    "```"
   ]
  },
  {
   "cell_type": "code",
   "execution_count": 41,
   "id": "dc3293b7-a50c-43c8-a022-8975e1e444b8",
   "metadata": {},
   "outputs": [
    {
     "name": "stderr",
     "output_type": "stream",
     "text": [
      "INFO:__main__:state: {'messages': [HumanMessage(content='What is the weather in SF and LA?')]}\n",
      "INFO:httpx:HTTP Request: POST https://key.wenwen-ai.com/v1/chat/completions \"HTTP/1.1 200 OK\"\n",
      "INFO:__main__:LLM message: content='' additional_kwargs={'tool_calls': [{'id': 'call_isxUnWUmjdy7vkBJkrcYIHSv', 'function': {'arguments': '{\"query\": \"weather in San Francisco\"}', 'name': 'tavily_search_results_json'}, 'type': 'function'}, {'id': 'call_q6U5CcmqdZMCvmYpxIjdeYUe', 'function': {'arguments': '{\"query\": \"weather in Los Angeles\"}', 'name': 'tavily_search_results_json'}, 'type': 'function'}]} response_metadata={'token_usage': {'completion_tokens': 57, 'prompt_tokens': 156, 'total_tokens': 213}, 'model_name': 'gpt-3.5-turbo', 'system_fingerprint': 'fp_811936bd4f', 'finish_reason': 'tool_calls', 'logprobs': None} id='run-f7f1cc8c-e761-4d4d-9204-fd3726a6b81c-0' tool_calls=[{'name': 'tavily_search_results_json', 'args': {'query': 'weather in San Francisco'}, 'id': 'call_isxUnWUmjdy7vkBJkrcYIHSv'}, {'name': 'tavily_search_results_json', 'args': {'query': 'weather in Los Angeles'}, 'id': 'call_q6U5CcmqdZMCvmYpxIjdeYUe'}]\n",
      "INFO:__main__:exists_action result: content='' additional_kwargs={'tool_calls': [{'id': 'call_isxUnWUmjdy7vkBJkrcYIHSv', 'function': {'arguments': '{\"query\": \"weather in San Francisco\"}', 'name': 'tavily_search_results_json'}, 'type': 'function'}, {'id': 'call_q6U5CcmqdZMCvmYpxIjdeYUe', 'function': {'arguments': '{\"query\": \"weather in Los Angeles\"}', 'name': 'tavily_search_results_json'}, 'type': 'function'}]} response_metadata={'token_usage': {'completion_tokens': 57, 'prompt_tokens': 156, 'total_tokens': 213}, 'model_name': 'gpt-3.5-turbo', 'system_fingerprint': 'fp_811936bd4f', 'finish_reason': 'tool_calls', 'logprobs': None} id='run-f7f1cc8c-e761-4d4d-9204-fd3726a6b81c-0' tool_calls=[{'name': 'tavily_search_results_json', 'args': {'query': 'weather in San Francisco'}, 'id': 'call_isxUnWUmjdy7vkBJkrcYIHSv'}, {'name': 'tavily_search_results_json', 'args': {'query': 'weather in Los Angeles'}, 'id': 'call_q6U5CcmqdZMCvmYpxIjdeYUe'}]\n",
      "INFO:__main__:Calling: {'name': 'tavily_search_results_json', 'args': {'query': 'weather in San Francisco'}, 'id': 'call_isxUnWUmjdy7vkBJkrcYIHSv'}\n"
     ]
    },
    {
     "name": "stdout",
     "output_type": "stream",
     "text": [
      "take_action called in thread: ThreadPoolExecutor-13_0\n",
      "take_action called with tool_calls: [{'name': 'tavily_search_results_json', 'args': {'query': 'weather in San Francisco'}, 'id': 'call_isxUnWUmjdy7vkBJkrcYIHSv'}, {'name': 'tavily_search_results_json', 'args': {'query': 'weather in Los Angeles'}, 'id': 'call_q6U5CcmqdZMCvmYpxIjdeYUe'}]\n",
      "Calling: {'name': 'tavily_search_results_json', 'args': {'query': 'weather in San Francisco'}, 'id': 'call_isxUnWUmjdy7vkBJkrcYIHSv'}\n"
     ]
    },
    {
     "name": "stderr",
     "output_type": "stream",
     "text": [
      "INFO:__main__:action tavily_search_results_json, result: [{'url': 'https://www.weatherapi.com/', 'content': \"{'location': {'name': 'San Francisco', 'region': 'California', 'country': 'United States of America', 'lat': 37.78, 'lon': -122.42, 'tz_id': 'America/Los_Angeles', 'localtime_epoch': 1719410957, 'localtime': '2024-06-26 7:09'}, 'current': {'last_updated_epoch': 1719410400, 'last_updated': '2024-06-26 07:00', 'temp_c': 13.3, 'temp_f': 55.9, 'is_day': 1, 'condition': {'text': 'Overcast', 'icon': '//cdn.weatherapi.com/weather/64x64/day/122.png', 'code': 1009}, 'wind_mph': 15.0, 'wind_kph': 24.1, 'wind_degree': 280, 'wind_dir': 'W', 'pressure_mb': 1017.0, 'pressure_in': 30.04, 'precip_mm': 0.0, 'precip_in': 0.0, 'humidity': 93, 'cloud': 100, 'feelslike_c': 12.7, 'feelslike_f': 54.8, 'windchill_c': 11.5, 'windchill_f': 52.7, 'heatindex_c': 12.5, 'heatindex_f': 54.4, 'dewpoint_c': 10.4, 'dewpoint_f': 50.7, 'vis_km': 16.0, 'vis_miles': 9.0, 'uv': 4.0, 'gust_mph': 19.5, 'gust_kph': 31.3}}\"}, {'url': 'https://www.wunderground.com/hourly/us/ca/san-francisco/94129/date/2024-06-26', 'content': 'San Francisco Weather Forecasts. Weather Underground provides local & long-range weather forecasts, weatherreports, maps & tropical weather conditions for the San Francisco area. ... Wednesday 06/ ...'}]\n",
      "INFO:__main__:Calling: {'name': 'tavily_search_results_json', 'args': {'query': 'weather in Los Angeles'}, 'id': 'call_q6U5CcmqdZMCvmYpxIjdeYUe'}\n"
     ]
    },
    {
     "name": "stdout",
     "output_type": "stream",
     "text": [
      "action tavily_search_results_json, result: [{'url': 'https://www.weatherapi.com/', 'content': \"{'location': {'name': 'San Francisco', 'region': 'California', 'country': 'United States of America', 'lat': 37.78, 'lon': -122.42, 'tz_id': 'America/Los_Angeles', 'localtime_epoch': 1719410957, 'localtime': '2024-06-26 7:09'}, 'current': {'last_updated_epoch': 1719410400, 'last_updated': '2024-06-26 07:00', 'temp_c': 13.3, 'temp_f': 55.9, 'is_day': 1, 'condition': {'text': 'Overcast', 'icon': '//cdn.weatherapi.com/weather/64x64/day/122.png', 'code': 1009}, 'wind_mph': 15.0, 'wind_kph': 24.1, 'wind_degree': 280, 'wind_dir': 'W', 'pressure_mb': 1017.0, 'pressure_in': 30.04, 'precip_mm': 0.0, 'precip_in': 0.0, 'humidity': 93, 'cloud': 100, 'feelslike_c': 12.7, 'feelslike_f': 54.8, 'windchill_c': 11.5, 'windchill_f': 52.7, 'heatindex_c': 12.5, 'heatindex_f': 54.4, 'dewpoint_c': 10.4, 'dewpoint_f': 50.7, 'vis_km': 16.0, 'vis_miles': 9.0, 'uv': 4.0, 'gust_mph': 19.5, 'gust_kph': 31.3}}\"}, {'url': 'https://www.wunderground.com/hourly/us/ca/san-francisco/94129/date/2024-06-26', 'content': 'San Francisco Weather Forecasts. Weather Underground provides local & long-range weather forecasts, weatherreports, maps & tropical weather conditions for the San Francisco area. ... Wednesday 06/ ...'}]\n",
      "Calling: {'name': 'tavily_search_results_json', 'args': {'query': 'weather in Los Angeles'}, 'id': 'call_q6U5CcmqdZMCvmYpxIjdeYUe'}\n"
     ]
    },
    {
     "name": "stderr",
     "output_type": "stream",
     "text": [
      "INFO:__main__:action tavily_search_results_json, result: [{'url': 'https://www.accuweather.com/en/us/los-angeles/90012/june-weather/347625', 'content': 'Get the monthly weather forecast for Los Angeles, CA, including daily high/low, historical averages, to help you plan ahead.'}, {'url': 'https://www.weatherapi.com/', 'content': \"{'location': {'name': 'Los Angeles', 'region': 'California', 'country': 'United States of America', 'lat': 34.05, 'lon': -118.24, 'tz_id': 'America/Los_Angeles', 'localtime_epoch': 1719411103, 'localtime': '2024-06-26 7:11'}, 'current': {'last_updated_epoch': 1719410400, 'last_updated': '2024-06-26 07:00', 'temp_c': 18.3, 'temp_f': 64.9, 'is_day': 1, 'condition': {'text': 'Sunny', 'icon': '//cdn.weatherapi.com/weather/64x64/day/113.png', 'code': 1000}, 'wind_mph': 2.2, 'wind_kph': 3.6, 'wind_degree': 10, 'wind_dir': 'N', 'pressure_mb': 1015.0, 'pressure_in': 29.97, 'precip_mm': 0.0, 'precip_in': 0.0, 'humidity': 84, 'cloud': 0, 'feelslike_c': 18.3, 'feelslike_f': 64.9, 'windchill_c': 21.2, 'windchill_f': 70.2, 'heatindex_c': 22.5, 'heatindex_f': 72.6, 'dewpoint_c': 14.8, 'dewpoint_f': 58.7, 'vis_km': 16.0, 'vis_miles': 9.0, 'uv': 6.0, 'gust_mph': 4.0, 'gust_kph': 6.5}}\"}]\n",
      "INFO:__main__:state: {'messages': [HumanMessage(content='What is the weather in SF and LA?'), AIMessage(content='', additional_kwargs={'tool_calls': [{'id': 'call_isxUnWUmjdy7vkBJkrcYIHSv', 'function': {'arguments': '{\"query\": \"weather in San Francisco\"}', 'name': 'tavily_search_results_json'}, 'type': 'function'}, {'id': 'call_q6U5CcmqdZMCvmYpxIjdeYUe', 'function': {'arguments': '{\"query\": \"weather in Los Angeles\"}', 'name': 'tavily_search_results_json'}, 'type': 'function'}]}, response_metadata={'token_usage': {'completion_tokens': 57, 'prompt_tokens': 156, 'total_tokens': 213}, 'model_name': 'gpt-3.5-turbo', 'system_fingerprint': 'fp_811936bd4f', 'finish_reason': 'tool_calls', 'logprobs': None}, id='run-f7f1cc8c-e761-4d4d-9204-fd3726a6b81c-0', tool_calls=[{'name': 'tavily_search_results_json', 'args': {'query': 'weather in San Francisco'}, 'id': 'call_isxUnWUmjdy7vkBJkrcYIHSv'}, {'name': 'tavily_search_results_json', 'args': {'query': 'weather in Los Angeles'}, 'id': 'call_q6U5CcmqdZMCvmYpxIjdeYUe'}]), ToolMessage(content='[{\\'url\\': \\'https://www.weatherapi.com/\\', \\'content\\': \"{\\'location\\': {\\'name\\': \\'San Francisco\\', \\'region\\': \\'California\\', \\'country\\': \\'United States of America\\', \\'lat\\': 37.78, \\'lon\\': -122.42, \\'tz_id\\': \\'America/Los_Angeles\\', \\'localtime_epoch\\': 1719410957, \\'localtime\\': \\'2024-06-26 7:09\\'}, \\'current\\': {\\'last_updated_epoch\\': 1719410400, \\'last_updated\\': \\'2024-06-26 07:00\\', \\'temp_c\\': 13.3, \\'temp_f\\': 55.9, \\'is_day\\': 1, \\'condition\\': {\\'text\\': \\'Overcast\\', \\'icon\\': \\'//cdn.weatherapi.com/weather/64x64/day/122.png\\', \\'code\\': 1009}, \\'wind_mph\\': 15.0, \\'wind_kph\\': 24.1, \\'wind_degree\\': 280, \\'wind_dir\\': \\'W\\', \\'pressure_mb\\': 1017.0, \\'pressure_in\\': 30.04, \\'precip_mm\\': 0.0, \\'precip_in\\': 0.0, \\'humidity\\': 93, \\'cloud\\': 100, \\'feelslike_c\\': 12.7, \\'feelslike_f\\': 54.8, \\'windchill_c\\': 11.5, \\'windchill_f\\': 52.7, \\'heatindex_c\\': 12.5, \\'heatindex_f\\': 54.4, \\'dewpoint_c\\': 10.4, \\'dewpoint_f\\': 50.7, \\'vis_km\\': 16.0, \\'vis_miles\\': 9.0, \\'uv\\': 4.0, \\'gust_mph\\': 19.5, \\'gust_kph\\': 31.3}}\"}, {\\'url\\': \\'https://www.wunderground.com/hourly/us/ca/san-francisco/94129/date/2024-06-26\\', \\'content\\': \\'San Francisco Weather Forecasts. Weather Underground provides local & long-range weather forecasts, weatherreports, maps & tropical weather conditions for the San Francisco area. ... Wednesday 06/ ...\\'}]', name='tavily_search_results_json', tool_call_id='call_isxUnWUmjdy7vkBJkrcYIHSv'), ToolMessage(content='[{\\'url\\': \\'https://www.accuweather.com/en/us/los-angeles/90012/june-weather/347625\\', \\'content\\': \\'Get the monthly weather forecast for Los Angeles, CA, including daily high/low, historical averages, to help you plan ahead.\\'}, {\\'url\\': \\'https://www.weatherapi.com/\\', \\'content\\': \"{\\'location\\': {\\'name\\': \\'Los Angeles\\', \\'region\\': \\'California\\', \\'country\\': \\'United States of America\\', \\'lat\\': 34.05, \\'lon\\': -118.24, \\'tz_id\\': \\'America/Los_Angeles\\', \\'localtime_epoch\\': 1719411103, \\'localtime\\': \\'2024-06-26 7:11\\'}, \\'current\\': {\\'last_updated_epoch\\': 1719410400, \\'last_updated\\': \\'2024-06-26 07:00\\', \\'temp_c\\': 18.3, \\'temp_f\\': 64.9, \\'is_day\\': 1, \\'condition\\': {\\'text\\': \\'Sunny\\', \\'icon\\': \\'//cdn.weatherapi.com/weather/64x64/day/113.png\\', \\'code\\': 1000}, \\'wind_mph\\': 2.2, \\'wind_kph\\': 3.6, \\'wind_degree\\': 10, \\'wind_dir\\': \\'N\\', \\'pressure_mb\\': 1015.0, \\'pressure_in\\': 29.97, \\'precip_mm\\': 0.0, \\'precip_in\\': 0.0, \\'humidity\\': 84, \\'cloud\\': 0, \\'feelslike_c\\': 18.3, \\'feelslike_f\\': 64.9, \\'windchill_c\\': 21.2, \\'windchill_f\\': 70.2, \\'heatindex_c\\': 22.5, \\'heatindex_f\\': 72.6, \\'dewpoint_c\\': 14.8, \\'dewpoint_f\\': 58.7, \\'vis_km\\': 16.0, \\'vis_miles\\': 9.0, \\'uv\\': 6.0, \\'gust_mph\\': 4.0, \\'gust_kph\\': 6.5}}\"}]', name='tavily_search_results_json', tool_call_id='call_q6U5CcmqdZMCvmYpxIjdeYUe')]}\n"
     ]
    },
    {
     "name": "stdout",
     "output_type": "stream",
     "text": [
      "action tavily_search_results_json, result: [{'url': 'https://www.accuweather.com/en/us/los-angeles/90012/june-weather/347625', 'content': 'Get the monthly weather forecast for Los Angeles, CA, including daily high/low, historical averages, to help you plan ahead.'}, {'url': 'https://www.weatherapi.com/', 'content': \"{'location': {'name': 'Los Angeles', 'region': 'California', 'country': 'United States of America', 'lat': 34.05, 'lon': -118.24, 'tz_id': 'America/Los_Angeles', 'localtime_epoch': 1719411103, 'localtime': '2024-06-26 7:11'}, 'current': {'last_updated_epoch': 1719410400, 'last_updated': '2024-06-26 07:00', 'temp_c': 18.3, 'temp_f': 64.9, 'is_day': 1, 'condition': {'text': 'Sunny', 'icon': '//cdn.weatherapi.com/weather/64x64/day/113.png', 'code': 1000}, 'wind_mph': 2.2, 'wind_kph': 3.6, 'wind_degree': 10, 'wind_dir': 'N', 'pressure_mb': 1015.0, 'pressure_in': 29.97, 'precip_mm': 0.0, 'precip_in': 0.0, 'humidity': 84, 'cloud': 0, 'feelslike_c': 18.3, 'feelslike_f': 64.9, 'windchill_c': 21.2, 'windchill_f': 70.2, 'heatindex_c': 22.5, 'heatindex_f': 72.6, 'dewpoint_c': 14.8, 'dewpoint_f': 58.7, 'vis_km': 16.0, 'vis_miles': 9.0, 'uv': 6.0, 'gust_mph': 4.0, 'gust_kph': 6.5}}\"}]\n",
      "Back to the model!\n"
     ]
    },
    {
     "name": "stderr",
     "output_type": "stream",
     "text": [
      "INFO:httpx:HTTP Request: POST https://key.wenwen-ai.com/v1/chat/completions \"HTTP/1.1 200 OK\"\n",
      "INFO:__main__:LLM message: content='The current weather in San Francisco is overcast with a temperature of 13.3°C (55.9°F) and a wind speed of 15.0 mph. In Los Angeles, the current weather is sunny with a temperature of 18.3°C (64.9°F) and a light wind of 2.2 mph.' response_metadata={'token_usage': {'completion_tokens': 71, 'prompt_tokens': 1176, 'total_tokens': 1247}, 'model_name': 'gpt-3.5-turbo', 'system_fingerprint': 'fp_44132a4de3', 'finish_reason': 'stop', 'logprobs': None} id='run-18898b4f-5ab7-4504-9e8e-8c9be9641a23-0'\n",
      "INFO:__main__:exists_action result: content='The current weather in San Francisco is overcast with a temperature of 13.3°C (55.9°F) and a wind speed of 15.0 mph. In Los Angeles, the current weather is sunny with a temperature of 18.3°C (64.9°F) and a light wind of 2.2 mph.' response_metadata={'token_usage': {'completion_tokens': 71, 'prompt_tokens': 1176, 'total_tokens': 1247}, 'model_name': 'gpt-3.5-turbo', 'system_fingerprint': 'fp_44132a4de3', 'finish_reason': 'stop', 'logprobs': None} id='run-18898b4f-5ab7-4504-9e8e-8c9be9641a23-0'\n"
     ]
    }
   ],
   "source": [
    "messages = [HumanMessage(content=\"What is the weather in SF and LA?\")]\n",
    "result = abot.graph.invoke({\"messages\": messages})"
   ]
  },
  {
   "cell_type": "code",
   "execution_count": 42,
   "id": "0722c3d4-4cbf-43bf-81b0-50f634c4ce61",
   "metadata": {},
   "outputs": [
    {
     "data": {
      "text/plain": [
       "'The current weather in San Francisco is overcast with a temperature of 13.3°C (55.9°F) and a wind speed of 15.0 mph. In Los Angeles, the current weather is sunny with a temperature of 18.3°C (64.9°F) and a light wind of 2.2 mph.'"
      ]
     },
     "execution_count": 42,
     "metadata": {},
     "output_type": "execute_result"
    }
   ],
   "source": [
    "result['messages'][-1].content"
   ]
  },
  {
   "cell_type": "markdown",
   "id": "3b6904b2",
   "metadata": {},
   "source": [
    "## sequentially\n",
    "\n",
    "the demo in course of Harrison, the code below indeed acted sequentially, however, when I run the same code, it didn't act as expected, but it didn't impact the final result"
   ]
  },
  {
   "cell_type": "code",
   "execution_count": 43,
   "id": "6b2f82fe-3ec4-4917-be51-9fb10d1317fa",
   "metadata": {},
   "outputs": [
    {
     "name": "stderr",
     "output_type": "stream",
     "text": [
      "INFO:__main__:model: bound=ChatOpenAI(client=<openai.resources.chat.completions.Completions object at 0x7e98ecc45cd0>, async_client=<openai.resources.chat.completions.AsyncCompletions object at 0x7e98ec725e10>, model_name='gpt-4o', openai_api_key=SecretStr('**********'), openai_proxy='') kwargs={'tools': [{'type': 'function', 'function': {'name': 'tavily_search_results_json', 'description': 'A search engine optimized for comprehensive, accurate, and trusted results. Useful for when you need to answer questions about current events. Input should be a search query.', 'parameters': {'type': 'object', 'properties': {'query': {'description': 'search query to look up', 'type': 'string'}}, 'required': ['query']}}}]}\n",
      "INFO:__main__:state: {'messages': [HumanMessage(content='Who won the super bowl in 2024? In what state is the winning team headquarters located? What is the GDP of that state? Answer each question.')]}\n",
      "INFO:httpx:HTTP Request: POST https://key.wenwen-ai.com/v1/chat/completions \"HTTP/1.1 200 OK\"\n",
      "INFO:__main__:LLM message: content='' additional_kwargs={'tool_calls': [{'id': 'call_qeR97djexvp5tO3TPm1F6Ifz', 'function': {'arguments': '{\"query\":\"Who won the Super Bowl 2024\"}', 'name': 'tavily_search_results_json'}, 'type': 'function'}]} response_metadata={'token_usage': {'completion_tokens': 25, 'prompt_tokens': 177, 'total_tokens': 202}, 'model_name': 'gpt-4o', 'system_fingerprint': 'fp_d576307f90', 'finish_reason': 'tool_calls', 'logprobs': None} id='run-b4120f54-7831-4bad-8b1f-54bd8633a9ce-0' tool_calls=[{'name': 'tavily_search_results_json', 'args': {'query': 'Who won the Super Bowl 2024'}, 'id': 'call_qeR97djexvp5tO3TPm1F6Ifz'}]\n",
      "INFO:__main__:exists_action result: content='' additional_kwargs={'tool_calls': [{'id': 'call_qeR97djexvp5tO3TPm1F6Ifz', 'function': {'arguments': '{\"query\":\"Who won the Super Bowl 2024\"}', 'name': 'tavily_search_results_json'}, 'type': 'function'}]} response_metadata={'token_usage': {'completion_tokens': 25, 'prompt_tokens': 177, 'total_tokens': 202}, 'model_name': 'gpt-4o', 'system_fingerprint': 'fp_d576307f90', 'finish_reason': 'tool_calls', 'logprobs': None} id='run-b4120f54-7831-4bad-8b1f-54bd8633a9ce-0' tool_calls=[{'name': 'tavily_search_results_json', 'args': {'query': 'Who won the Super Bowl 2024'}, 'id': 'call_qeR97djexvp5tO3TPm1F6Ifz'}]\n",
      "INFO:__main__:Calling: {'name': 'tavily_search_results_json', 'args': {'query': 'Who won the Super Bowl 2024'}, 'id': 'call_qeR97djexvp5tO3TPm1F6Ifz'}\n"
     ]
    },
    {
     "name": "stdout",
     "output_type": "stream",
     "text": [
      "take_action called in thread: ThreadPoolExecutor-14_0\n",
      "take_action called with tool_calls: [{'name': 'tavily_search_results_json', 'args': {'query': 'Who won the Super Bowl 2024'}, 'id': 'call_qeR97djexvp5tO3TPm1F6Ifz'}]\n",
      "Calling: {'name': 'tavily_search_results_json', 'args': {'query': 'Who won the Super Bowl 2024'}, 'id': 'call_qeR97djexvp5tO3TPm1F6Ifz'}\n"
     ]
    },
    {
     "name": "stderr",
     "output_type": "stream",
     "text": [
      "INFO:__main__:action tavily_search_results_json, result: [{'url': 'https://apnews.com/live/super-bowl-2024-updates', 'content': 'Throw in the fact that Chiefs coach Andy Reid will be in his fifth Super Bowl, the third most in NFL history, and has a chance to win a third ring, and the knowledge on the Kansas City sideline will be an advantage too big for the 49ers to overcome.\\n She performed in Japan on Saturday night before a flight across nine time zones and the international date line to reach the U.S.\\nRihanna performs during halftime of the NFL Super Bowl 57 football game between the Philadelphia Eagles and the Kansas City Chiefs, Sunday, Feb. 12, 2023, in Glendale, Ariz. (AP Photo/David J. Phillip)\\n After the teams take the field, Post Malone will perform “America the Beautiful” and Reba McEntire will sing “The Star-Spangled Banner.”\\nSan Francisco 49ers quarterback Brock Purdy (13) warms up before the NFL Super Bowl 58 football game against the Kansas City Chiefs, Sunday, Feb. 11, 2024, in Las Vegas. He was also the referee when the Chiefs beat the 49ers in the Super Bowl four years ago — and when the Rams beat the Saints in the 2019 NFC championship game after an infamous missed call.\\n Purdy’s comeback from the injury to his throwing arm suffered in last season’s NFC championship loss to the Philadelphia Eagles has been part of the storybook start to his career that started as Mr. Irrelevant as the 262nd pick in the 2022 draft.\\n'}, {'url': 'https://www.cbssports.com/nfl/news/2024-super-bowl-chiefs-vs-49ers-score-patrick-mahomes-leads-ot-comeback-as-k-c-wins-back-to-back-titles/live/', 'content': \"The championship-winning drive, which included a fourth-and-1 scramble from Mahomes and a clutch 7-yard catch from tight end Travis Kelce, was a must-score for K.C. The NFL's new playoff overtime rules -- both teams are guaranteed at least one possession in the extra period -- were in effect for the first time, and the Chiefs needed to answer the Niners' field goal.\\n Held out of the end zone until that point, Kansas City grabbed its first lead of the game at 13-10.\\nJennings' touchdown receiving (followed by a missed extra point) concluded a 75-yard drive that put the Niners back on top, 16-13, as the wideout joined former Philadelphia Eagles quarterback Nick Foles as the only players to throw and catch a touchdown in a Super Bowl.\\n He spread the ball around -- eight pass-catchers had at least two receptions -- slowly but surely overcoming a threatening 49ers defense that knocked him off his spot consistently in the first half.\\nMahomes, with his third Super Bowl MVP, now sits alongside Tom Brady (five) and Joe Montana (three) atop the mountain while becoming just the third player to win the award back-to-back, joining Bart Starr (I-II) and Terry Bradshaw (XIII-XIV).\\n The muffed punt that bounced off of cornerback Darrell Luter Jr.'s ankle was also the big break that the Chiefs needed as they scored on the very next play to take the lead for the first time in the game. College Pick'em\\nA Daily SportsLine Betting Podcast\\nNFL Playoff Time!\\n2024 Super Bowl, Chiefs vs. 49ers score: Patrick Mahomes leads OT comeback as K.C. wins back-to-back titles\\nCall it a dynasty; the Chiefs are the first team to win consecutive Super Bowls since 2003-04\\nThe Kansas City Chiefs are Super Bowl champions, again.\"}]\n",
      "INFO:__main__:state: {'messages': [HumanMessage(content='Who won the super bowl in 2024? In what state is the winning team headquarters located? What is the GDP of that state? Answer each question.'), AIMessage(content='', additional_kwargs={'tool_calls': [{'id': 'call_qeR97djexvp5tO3TPm1F6Ifz', 'function': {'arguments': '{\"query\":\"Who won the Super Bowl 2024\"}', 'name': 'tavily_search_results_json'}, 'type': 'function'}]}, response_metadata={'token_usage': {'completion_tokens': 25, 'prompt_tokens': 177, 'total_tokens': 202}, 'model_name': 'gpt-4o', 'system_fingerprint': 'fp_d576307f90', 'finish_reason': 'tool_calls', 'logprobs': None}, id='run-b4120f54-7831-4bad-8b1f-54bd8633a9ce-0', tool_calls=[{'name': 'tavily_search_results_json', 'args': {'query': 'Who won the Super Bowl 2024'}, 'id': 'call_qeR97djexvp5tO3TPm1F6Ifz'}]), ToolMessage(content='[{\\'url\\': \\'https://apnews.com/live/super-bowl-2024-updates\\', \\'content\\': \\'Throw in the fact that Chiefs coach Andy Reid will be in his fifth Super Bowl, the third most in NFL history, and has a chance to win a third ring, and the knowledge on the Kansas City sideline will be an advantage too big for the 49ers to overcome.\\\\n She performed in Japan on Saturday night before a flight across nine time zones and the international date line to reach the U.S.\\\\nRihanna performs during halftime of the NFL Super Bowl 57 football game between the Philadelphia Eagles and the Kansas City Chiefs, Sunday, Feb. 12, 2023, in Glendale, Ariz. (AP Photo/David J. Phillip)\\\\n After the teams take the field, Post Malone will perform “America the Beautiful” and Reba McEntire will sing “The Star-Spangled Banner.”\\\\nSan Francisco 49ers quarterback Brock Purdy (13) warms up before the NFL Super Bowl 58 football game against the Kansas City Chiefs, Sunday, Feb. 11, 2024, in Las Vegas. He was also the referee when the Chiefs beat the 49ers in the Super Bowl four years ago — and when the Rams beat the Saints in the 2019 NFC championship game after an infamous missed call.\\\\n Purdy’s comeback from the injury to his throwing arm suffered in last season’s NFC championship loss to the Philadelphia Eagles has been part of the storybook start to his career that started as Mr. Irrelevant as the 262nd pick in the 2022 draft.\\\\n\\'}, {\\'url\\': \\'https://www.cbssports.com/nfl/news/2024-super-bowl-chiefs-vs-49ers-score-patrick-mahomes-leads-ot-comeback-as-k-c-wins-back-to-back-titles/live/\\', \\'content\\': \"The championship-winning drive, which included a fourth-and-1 scramble from Mahomes and a clutch 7-yard catch from tight end Travis Kelce, was a must-score for K.C. The NFL\\'s new playoff overtime rules -- both teams are guaranteed at least one possession in the extra period -- were in effect for the first time, and the Chiefs needed to answer the Niners\\' field goal.\\\\n Held out of the end zone until that point, Kansas City grabbed its first lead of the game at 13-10.\\\\nJennings\\' touchdown receiving (followed by a missed extra point) concluded a 75-yard drive that put the Niners back on top, 16-13, as the wideout joined former Philadelphia Eagles quarterback Nick Foles as the only players to throw and catch a touchdown in a Super Bowl.\\\\n He spread the ball around -- eight pass-catchers had at least two receptions -- slowly but surely overcoming a threatening 49ers defense that knocked him off his spot consistently in the first half.\\\\nMahomes, with his third Super Bowl MVP, now sits alongside Tom Brady (five) and Joe Montana (three) atop the mountain while becoming just the third player to win the award back-to-back, joining Bart Starr (I-II) and Terry Bradshaw (XIII-XIV).\\\\n The muffed punt that bounced off of cornerback Darrell Luter Jr.\\'s ankle was also the big break that the Chiefs needed as they scored on the very next play to take the lead for the first time in the game. College Pick\\'em\\\\nA Daily SportsLine Betting Podcast\\\\nNFL Playoff Time!\\\\n2024 Super Bowl, Chiefs vs. 49ers score: Patrick Mahomes leads OT comeback as K.C. wins back-to-back titles\\\\nCall it a dynasty; the Chiefs are the first team to win consecutive Super Bowls since 2003-04\\\\nThe Kansas City Chiefs are Super Bowl champions, again.\"}]', name='tavily_search_results_json', tool_call_id='call_qeR97djexvp5tO3TPm1F6Ifz')]}\n"
     ]
    },
    {
     "name": "stdout",
     "output_type": "stream",
     "text": [
      "action tavily_search_results_json, result: [{'url': 'https://apnews.com/live/super-bowl-2024-updates', 'content': 'Throw in the fact that Chiefs coach Andy Reid will be in his fifth Super Bowl, the third most in NFL history, and has a chance to win a third ring, and the knowledge on the Kansas City sideline will be an advantage too big for the 49ers to overcome.\\n She performed in Japan on Saturday night before a flight across nine time zones and the international date line to reach the U.S.\\nRihanna performs during halftime of the NFL Super Bowl 57 football game between the Philadelphia Eagles and the Kansas City Chiefs, Sunday, Feb. 12, 2023, in Glendale, Ariz. (AP Photo/David J. Phillip)\\n After the teams take the field, Post Malone will perform “America the Beautiful” and Reba McEntire will sing “The Star-Spangled Banner.”\\nSan Francisco 49ers quarterback Brock Purdy (13) warms up before the NFL Super Bowl 58 football game against the Kansas City Chiefs, Sunday, Feb. 11, 2024, in Las Vegas. He was also the referee when the Chiefs beat the 49ers in the Super Bowl four years ago — and when the Rams beat the Saints in the 2019 NFC championship game after an infamous missed call.\\n Purdy’s comeback from the injury to his throwing arm suffered in last season’s NFC championship loss to the Philadelphia Eagles has been part of the storybook start to his career that started as Mr. Irrelevant as the 262nd pick in the 2022 draft.\\n'}, {'url': 'https://www.cbssports.com/nfl/news/2024-super-bowl-chiefs-vs-49ers-score-patrick-mahomes-leads-ot-comeback-as-k-c-wins-back-to-back-titles/live/', 'content': \"The championship-winning drive, which included a fourth-and-1 scramble from Mahomes and a clutch 7-yard catch from tight end Travis Kelce, was a must-score for K.C. The NFL's new playoff overtime rules -- both teams are guaranteed at least one possession in the extra period -- were in effect for the first time, and the Chiefs needed to answer the Niners' field goal.\\n Held out of the end zone until that point, Kansas City grabbed its first lead of the game at 13-10.\\nJennings' touchdown receiving (followed by a missed extra point) concluded a 75-yard drive that put the Niners back on top, 16-13, as the wideout joined former Philadelphia Eagles quarterback Nick Foles as the only players to throw and catch a touchdown in a Super Bowl.\\n He spread the ball around -- eight pass-catchers had at least two receptions -- slowly but surely overcoming a threatening 49ers defense that knocked him off his spot consistently in the first half.\\nMahomes, with his third Super Bowl MVP, now sits alongside Tom Brady (five) and Joe Montana (three) atop the mountain while becoming just the third player to win the award back-to-back, joining Bart Starr (I-II) and Terry Bradshaw (XIII-XIV).\\n The muffed punt that bounced off of cornerback Darrell Luter Jr.'s ankle was also the big break that the Chiefs needed as they scored on the very next play to take the lead for the first time in the game. College Pick'em\\nA Daily SportsLine Betting Podcast\\nNFL Playoff Time!\\n2024 Super Bowl, Chiefs vs. 49ers score: Patrick Mahomes leads OT comeback as K.C. wins back-to-back titles\\nCall it a dynasty; the Chiefs are the first team to win consecutive Super Bowls since 2003-04\\nThe Kansas City Chiefs are Super Bowl champions, again.\"}]\n",
      "Back to the model!\n"
     ]
    },
    {
     "name": "stderr",
     "output_type": "stream",
     "text": [
      "INFO:httpx:HTTP Request: POST https://key.wenwen-ai.com/v1/chat/completions \"HTTP/1.1 503 Service Unavailable\"\n",
      "INFO:openai._base_client:Retrying request to /chat/completions in 0.953028 seconds\n",
      "INFO:httpx:HTTP Request: POST https://key.wenwen-ai.com/v1/chat/completions \"HTTP/1.1 200 OK\"\n",
      "INFO:__main__:LLM message: content='' additional_kwargs={'tool_calls': [{'id': 'call_cdWRAy3JkbHxUrALCS3igWlt', 'function': {'arguments': '{\"query\": \"Kansas City Chiefs headquarters location\"}', 'name': 'tavily_search_results_json'}, 'type': 'function'}, {'id': 'call_9b1FWqbPdKvnRQN36plsjzQB', 'function': {'arguments': '{\"query\": \"GDP of Missouri 2024\"}', 'name': 'tavily_search_results_json'}, 'type': 'function'}]} response_metadata={'token_usage': {'completion_tokens': 61, 'prompt_tokens': 1002, 'total_tokens': 1063}, 'model_name': 'gpt-4o', 'system_fingerprint': 'fp_d576307f90', 'finish_reason': 'tool_calls', 'logprobs': None} id='run-b3c50ea8-ba2c-46e7-a871-c10057495931-0' tool_calls=[{'name': 'tavily_search_results_json', 'args': {'query': 'Kansas City Chiefs headquarters location'}, 'id': 'call_cdWRAy3JkbHxUrALCS3igWlt'}, {'name': 'tavily_search_results_json', 'args': {'query': 'GDP of Missouri 2024'}, 'id': 'call_9b1FWqbPdKvnRQN36plsjzQB'}]\n",
      "INFO:__main__:exists_action result: content='' additional_kwargs={'tool_calls': [{'id': 'call_cdWRAy3JkbHxUrALCS3igWlt', 'function': {'arguments': '{\"query\": \"Kansas City Chiefs headquarters location\"}', 'name': 'tavily_search_results_json'}, 'type': 'function'}, {'id': 'call_9b1FWqbPdKvnRQN36plsjzQB', 'function': {'arguments': '{\"query\": \"GDP of Missouri 2024\"}', 'name': 'tavily_search_results_json'}, 'type': 'function'}]} response_metadata={'token_usage': {'completion_tokens': 61, 'prompt_tokens': 1002, 'total_tokens': 1063}, 'model_name': 'gpt-4o', 'system_fingerprint': 'fp_d576307f90', 'finish_reason': 'tool_calls', 'logprobs': None} id='run-b3c50ea8-ba2c-46e7-a871-c10057495931-0' tool_calls=[{'name': 'tavily_search_results_json', 'args': {'query': 'Kansas City Chiefs headquarters location'}, 'id': 'call_cdWRAy3JkbHxUrALCS3igWlt'}, {'name': 'tavily_search_results_json', 'args': {'query': 'GDP of Missouri 2024'}, 'id': 'call_9b1FWqbPdKvnRQN36plsjzQB'}]\n",
      "INFO:__main__:Calling: {'name': 'tavily_search_results_json', 'args': {'query': 'Kansas City Chiefs headquarters location'}, 'id': 'call_cdWRAy3JkbHxUrALCS3igWlt'}\n"
     ]
    },
    {
     "name": "stdout",
     "output_type": "stream",
     "text": [
      "take_action called in thread: ThreadPoolExecutor-14_0\n",
      "take_action called with tool_calls: [{'name': 'tavily_search_results_json', 'args': {'query': 'Kansas City Chiefs headquarters location'}, 'id': 'call_cdWRAy3JkbHxUrALCS3igWlt'}, {'name': 'tavily_search_results_json', 'args': {'query': 'GDP of Missouri 2024'}, 'id': 'call_9b1FWqbPdKvnRQN36plsjzQB'}]\n",
      "Calling: {'name': 'tavily_search_results_json', 'args': {'query': 'Kansas City Chiefs headquarters location'}, 'id': 'call_cdWRAy3JkbHxUrALCS3igWlt'}\n"
     ]
    },
    {
     "name": "stderr",
     "output_type": "stream",
     "text": [
      "INFO:__main__:action tavily_search_results_json, result: [{'url': 'https://www.chiefs.com/stadium/suites/contact', 'content': '816-920-4234. mdannewitz@chiefs.nfl.com. The official online home of the Kansas City Chiefs. Your destination for news, videos, photos, podcasts, schedule, community stories, GEHA Field at Arrowhead Stadium information, Cheerleaders, the Chiefs Kingdom Kids program, Tune-in and Radio information, Pro Shop and merchandise, and much more.'}, {'url': 'https://corporateofficeheadquarters.com/kansas-city-chiefs-corporate-office-headquarters/', 'content': 'Kansas City Chiefs Corporate Office: Overview. Kansas City Chiefs Address: One Arrowhead Drive, Kansas City, MO 64129, USA. Kansas City Chiefs Corporate Phone Number: 1-816-920-9300. Ticket Information: 1-816-920-9400. Website: chiefs.com.'}]\n",
      "INFO:__main__:Calling: {'name': 'tavily_search_results_json', 'args': {'query': 'GDP of Missouri 2024'}, 'id': 'call_9b1FWqbPdKvnRQN36plsjzQB'}\n"
     ]
    },
    {
     "name": "stdout",
     "output_type": "stream",
     "text": [
      "action tavily_search_results_json, result: [{'url': 'https://www.chiefs.com/stadium/suites/contact', 'content': '816-920-4234. mdannewitz@chiefs.nfl.com. The official online home of the Kansas City Chiefs. Your destination for news, videos, photos, podcasts, schedule, community stories, GEHA Field at Arrowhead Stadium information, Cheerleaders, the Chiefs Kingdom Kids program, Tune-in and Radio information, Pro Shop and merchandise, and much more.'}, {'url': 'https://corporateofficeheadquarters.com/kansas-city-chiefs-corporate-office-headquarters/', 'content': 'Kansas City Chiefs Corporate Office: Overview. Kansas City Chiefs Address: One Arrowhead Drive, Kansas City, MO 64129, USA. Kansas City Chiefs Corporate Phone Number: 1-816-920-9300. Ticket Information: 1-816-920-9400. Website: chiefs.com.'}]\n",
      "Calling: {'name': 'tavily_search_results_json', 'args': {'query': 'GDP of Missouri 2024'}, 'id': 'call_9b1FWqbPdKvnRQN36plsjzQB'}\n"
     ]
    },
    {
     "name": "stderr",
     "output_type": "stream",
     "text": [
      "INFO:__main__:action tavily_search_results_json, result: [{'url': 'https://usafacts.org/topics/economy/state/missouri/', 'content': \"Real gross domestic product (GDP) Missouri's share of the US economy. Real gross domestic product (GDP) by industry. ... A majority of funding for the 2024 election — over 65%, or nearly $5.6 billion — comes from political action committees, also known as PACs. Published on May 17, 2024.\"}, {'url': 'https://www.statista.com/statistics/187908/gdp-of-the-us-federal-state-of-missouri-since-1997/', 'content': 'Published by Statista Research Department , Apr 8, 2024. In 2023, the real gross domestic product (GDP) of Missouri was 344.12 billion U.S. dollars. This is an increase from the previous year ...'}]\n",
      "INFO:__main__:state: {'messages': [HumanMessage(content='Who won the super bowl in 2024? In what state is the winning team headquarters located? What is the GDP of that state? Answer each question.'), AIMessage(content='', additional_kwargs={'tool_calls': [{'id': 'call_qeR97djexvp5tO3TPm1F6Ifz', 'function': {'arguments': '{\"query\":\"Who won the Super Bowl 2024\"}', 'name': 'tavily_search_results_json'}, 'type': 'function'}]}, response_metadata={'token_usage': {'completion_tokens': 25, 'prompt_tokens': 177, 'total_tokens': 202}, 'model_name': 'gpt-4o', 'system_fingerprint': 'fp_d576307f90', 'finish_reason': 'tool_calls', 'logprobs': None}, id='run-b4120f54-7831-4bad-8b1f-54bd8633a9ce-0', tool_calls=[{'name': 'tavily_search_results_json', 'args': {'query': 'Who won the Super Bowl 2024'}, 'id': 'call_qeR97djexvp5tO3TPm1F6Ifz'}]), ToolMessage(content='[{\\'url\\': \\'https://apnews.com/live/super-bowl-2024-updates\\', \\'content\\': \\'Throw in the fact that Chiefs coach Andy Reid will be in his fifth Super Bowl, the third most in NFL history, and has a chance to win a third ring, and the knowledge on the Kansas City sideline will be an advantage too big for the 49ers to overcome.\\\\n She performed in Japan on Saturday night before a flight across nine time zones and the international date line to reach the U.S.\\\\nRihanna performs during halftime of the NFL Super Bowl 57 football game between the Philadelphia Eagles and the Kansas City Chiefs, Sunday, Feb. 12, 2023, in Glendale, Ariz. (AP Photo/David J. Phillip)\\\\n After the teams take the field, Post Malone will perform “America the Beautiful” and Reba McEntire will sing “The Star-Spangled Banner.”\\\\nSan Francisco 49ers quarterback Brock Purdy (13) warms up before the NFL Super Bowl 58 football game against the Kansas City Chiefs, Sunday, Feb. 11, 2024, in Las Vegas. He was also the referee when the Chiefs beat the 49ers in the Super Bowl four years ago — and when the Rams beat the Saints in the 2019 NFC championship game after an infamous missed call.\\\\n Purdy’s comeback from the injury to his throwing arm suffered in last season’s NFC championship loss to the Philadelphia Eagles has been part of the storybook start to his career that started as Mr. Irrelevant as the 262nd pick in the 2022 draft.\\\\n\\'}, {\\'url\\': \\'https://www.cbssports.com/nfl/news/2024-super-bowl-chiefs-vs-49ers-score-patrick-mahomes-leads-ot-comeback-as-k-c-wins-back-to-back-titles/live/\\', \\'content\\': \"The championship-winning drive, which included a fourth-and-1 scramble from Mahomes and a clutch 7-yard catch from tight end Travis Kelce, was a must-score for K.C. The NFL\\'s new playoff overtime rules -- both teams are guaranteed at least one possession in the extra period -- were in effect for the first time, and the Chiefs needed to answer the Niners\\' field goal.\\\\n Held out of the end zone until that point, Kansas City grabbed its first lead of the game at 13-10.\\\\nJennings\\' touchdown receiving (followed by a missed extra point) concluded a 75-yard drive that put the Niners back on top, 16-13, as the wideout joined former Philadelphia Eagles quarterback Nick Foles as the only players to throw and catch a touchdown in a Super Bowl.\\\\n He spread the ball around -- eight pass-catchers had at least two receptions -- slowly but surely overcoming a threatening 49ers defense that knocked him off his spot consistently in the first half.\\\\nMahomes, with his third Super Bowl MVP, now sits alongside Tom Brady (five) and Joe Montana (three) atop the mountain while becoming just the third player to win the award back-to-back, joining Bart Starr (I-II) and Terry Bradshaw (XIII-XIV).\\\\n The muffed punt that bounced off of cornerback Darrell Luter Jr.\\'s ankle was also the big break that the Chiefs needed as they scored on the very next play to take the lead for the first time in the game. College Pick\\'em\\\\nA Daily SportsLine Betting Podcast\\\\nNFL Playoff Time!\\\\n2024 Super Bowl, Chiefs vs. 49ers score: Patrick Mahomes leads OT comeback as K.C. wins back-to-back titles\\\\nCall it a dynasty; the Chiefs are the first team to win consecutive Super Bowls since 2003-04\\\\nThe Kansas City Chiefs are Super Bowl champions, again.\"}]', name='tavily_search_results_json', tool_call_id='call_qeR97djexvp5tO3TPm1F6Ifz'), AIMessage(content='', additional_kwargs={'tool_calls': [{'id': 'call_cdWRAy3JkbHxUrALCS3igWlt', 'function': {'arguments': '{\"query\": \"Kansas City Chiefs headquarters location\"}', 'name': 'tavily_search_results_json'}, 'type': 'function'}, {'id': 'call_9b1FWqbPdKvnRQN36plsjzQB', 'function': {'arguments': '{\"query\": \"GDP of Missouri 2024\"}', 'name': 'tavily_search_results_json'}, 'type': 'function'}]}, response_metadata={'token_usage': {'completion_tokens': 61, 'prompt_tokens': 1002, 'total_tokens': 1063}, 'model_name': 'gpt-4o', 'system_fingerprint': 'fp_d576307f90', 'finish_reason': 'tool_calls', 'logprobs': None}, id='run-b3c50ea8-ba2c-46e7-a871-c10057495931-0', tool_calls=[{'name': 'tavily_search_results_json', 'args': {'query': 'Kansas City Chiefs headquarters location'}, 'id': 'call_cdWRAy3JkbHxUrALCS3igWlt'}, {'name': 'tavily_search_results_json', 'args': {'query': 'GDP of Missouri 2024'}, 'id': 'call_9b1FWqbPdKvnRQN36plsjzQB'}]), ToolMessage(content=\"[{'url': 'https://www.chiefs.com/stadium/suites/contact', 'content': '816-920-4234. mdannewitz@chiefs.nfl.com. The official online home of the Kansas City Chiefs. Your destination for news, videos, photos, podcasts, schedule, community stories, GEHA Field at Arrowhead Stadium information, Cheerleaders, the Chiefs Kingdom Kids program, Tune-in and Radio information, Pro Shop and merchandise, and much more.'}, {'url': 'https://corporateofficeheadquarters.com/kansas-city-chiefs-corporate-office-headquarters/', 'content': 'Kansas City Chiefs Corporate Office: Overview. Kansas City Chiefs Address: One Arrowhead Drive, Kansas City, MO 64129, USA. Kansas City Chiefs Corporate Phone Number: 1-816-920-9300. Ticket Information: 1-816-920-9400. Website: chiefs.com.'}]\", name='tavily_search_results_json', tool_call_id='call_cdWRAy3JkbHxUrALCS3igWlt'), ToolMessage(content='[{\\'url\\': \\'https://usafacts.org/topics/economy/state/missouri/\\', \\'content\\': \"Real gross domestic product (GDP) Missouri\\'s share of the US economy. Real gross domestic product (GDP) by industry. ... A majority of funding for the 2024 election — over 65%, or nearly $5.6 billion — comes from political action committees, also known as PACs. Published on May 17, 2024.\"}, {\\'url\\': \\'https://www.statista.com/statistics/187908/gdp-of-the-us-federal-state-of-missouri-since-1997/\\', \\'content\\': \\'Published by Statista Research Department , Apr 8, 2024. In 2023, the real gross domestic product (GDP) of Missouri was 344.12 billion U.S. dollars. This is an increase from the previous year ...\\'}]', name='tavily_search_results_json', tool_call_id='call_9b1FWqbPdKvnRQN36plsjzQB')]}\n"
     ]
    },
    {
     "name": "stdout",
     "output_type": "stream",
     "text": [
      "action tavily_search_results_json, result: [{'url': 'https://usafacts.org/topics/economy/state/missouri/', 'content': \"Real gross domestic product (GDP) Missouri's share of the US economy. Real gross domestic product (GDP) by industry. ... A majority of funding for the 2024 election — over 65%, or nearly $5.6 billion — comes from political action committees, also known as PACs. Published on May 17, 2024.\"}, {'url': 'https://www.statista.com/statistics/187908/gdp-of-the-us-federal-state-of-missouri-since-1997/', 'content': 'Published by Statista Research Department , Apr 8, 2024. In 2023, the real gross domestic product (GDP) of Missouri was 344.12 billion U.S. dollars. This is an increase from the previous year ...'}]\n",
      "Back to the model!\n"
     ]
    },
    {
     "name": "stderr",
     "output_type": "stream",
     "text": [
      "INFO:httpx:HTTP Request: POST https://key.wenwen-ai.com/v1/chat/completions \"HTTP/1.1 200 OK\"\n",
      "INFO:__main__:LLM message: content=\"1. **Who won the Super Bowl in 2024?**\\n   - The Kansas City Chiefs won the Super Bowl in 2024.\\n\\n2. **In what state is the winning team's headquarters located?**\\n   - The Kansas City Chiefs' headquarters is located in Missouri. The address is One Arrowhead Drive, Kansas City, MO 64129, USA.\\n\\n3. **What is the GDP of that state?**\\n   - In 2023, the real gross domestic product (GDP) of Missouri was approximately $344.12 billion USD. The 2024 data hasn't been explicitly provided, but it can be inferred to be within a similar range.\" response_metadata={'token_usage': {'completion_tokens': 135, 'prompt_tokens': 1458, 'total_tokens': 1593}, 'model_name': 'gpt-4o', 'system_fingerprint': 'fp_d576307f90', 'finish_reason': 'stop', 'logprobs': None} id='run-5a583d41-c8c3-479d-95dd-556162970220-0'\n",
      "INFO:__main__:exists_action result: content=\"1. **Who won the Super Bowl in 2024?**\\n   - The Kansas City Chiefs won the Super Bowl in 2024.\\n\\n2. **In what state is the winning team's headquarters located?**\\n   - The Kansas City Chiefs' headquarters is located in Missouri. The address is One Arrowhead Drive, Kansas City, MO 64129, USA.\\n\\n3. **What is the GDP of that state?**\\n   - In 2023, the real gross domestic product (GDP) of Missouri was approximately $344.12 billion USD. The 2024 data hasn't been explicitly provided, but it can be inferred to be within a similar range.\" response_metadata={'token_usage': {'completion_tokens': 135, 'prompt_tokens': 1458, 'total_tokens': 1593}, 'model_name': 'gpt-4o', 'system_fingerprint': 'fp_d576307f90', 'finish_reason': 'stop', 'logprobs': None} id='run-5a583d41-c8c3-479d-95dd-556162970220-0'\n"
     ]
    }
   ],
   "source": [
    "# Note, the query was modified to produce more consistent results. \n",
    "# Results may vary per run and over time as search information and models change.\n",
    "\n",
    "query = \"Who won the super bowl in 2024? In what state is the winning team headquarters located? \\\n",
    "What is the GDP of that state? Answer each question.\" \n",
    "messages = [HumanMessage(content=query)]\n",
    "\n",
    "model = ChatOpenAI(model=\"gpt-4o\")  # requires more advanced model\n",
    "abot = Agent(model, [tool], system=prompt)\n",
    "result = abot.graph.invoke({\"messages\": messages})"
   ]
  },
  {
   "cell_type": "code",
   "execution_count": 46,
   "id": "ee0fe1c7-77e2-499c-a2f9-1f739bb6ddf0",
   "metadata": {},
   "outputs": [
    {
     "name": "stdout",
     "output_type": "stream",
     "text": [
      "1. **Who won the Super Bowl in 2024?**\n",
      "   - The Kansas City Chiefs won the Super Bowl in 2024.\n",
      "\n",
      "2. **In what state is the winning team's headquarters located?**\n",
      "   - The Kansas City Chiefs' headquarters is located in Missouri. The address is One Arrowhead Drive, Kansas City, MO 64129, USA.\n",
      "\n",
      "3. **What is the GDP of that state?**\n",
      "   - In 2023, the real gross domestic product (GDP) of Missouri was approximately $344.12 billion USD. The 2024 data hasn't been explicitly provided, but it can be inferred to be within a similar range.\n"
     ]
    }
   ],
   "source": [
    "print(result['messages'][-1].content)"
   ]
  }
 ],
 "metadata": {
  "kernelspec": {
   "display_name": "Python 3 (ipykernel)",
   "language": "python",
   "name": "python3"
  },
  "language_info": {
   "codemirror_mode": {
    "name": "ipython",
    "version": 3
   },
   "file_extension": ".py",
   "mimetype": "text/x-python",
   "name": "python",
   "nbconvert_exporter": "python",
   "pygments_lexer": "ipython3",
   "version": "3.11.7"
  }
 },
 "nbformat": 4,
 "nbformat_minor": 5
}
